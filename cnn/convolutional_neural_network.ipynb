{
 "cells": [
  {
   "cell_type": "code",
   "execution_count": 19,
   "metadata": {},
   "outputs": [],
   "source": [
    "import tensorflow as tf\n",
    "from keras.preprocessing.image import ImageDataGenerator\n",
    "import os\n",
    "import matplotlib.pyplot as plt\n",
    "import numpy as np"
   ]
  },
  {
   "cell_type": "markdown",
   "metadata": {},
   "source": [
    "## PREPROCESSING THE TRAINING AND THE TEST SET"
   ]
  },
  {
   "cell_type": "code",
   "execution_count": 2,
   "metadata": {},
   "outputs": [],
   "source": [
    "## PREPROCESSING THE TRAINING SET\n",
    "train_datagen = ImageDataGenerator(\n",
    "    shear_range=0.2,\n",
    "    zoom_range=0.2,\n",
    "    rescale=1./255, ## applies feature scaling to each of the pixel\n",
    "    horizontal_flip=True\n",
    ")"
   ]
  },
  {
   "cell_type": "code",
   "execution_count": 3,
   "metadata": {},
   "outputs": [
    {
     "name": "stdout",
     "output_type": "stream",
     "text": [
      "Found 8000 images belonging to 2 classes.\n"
     ]
    }
   ],
   "source": [
    "training_set = train_datagen.flow_from_directory(\n",
    "        os.path.join(os.getcwd(), 'dataset/training_set'),\n",
    "        target_size=(150, 150), ## final size of the images \n",
    "        batch_size=32, ## \n",
    "        class_mode='binary'\n",
    ")"
   ]
  },
  {
   "cell_type": "code",
   "execution_count": 4,
   "metadata": {},
   "outputs": [],
   "source": [
    "test_datagen = ImageDataGenerator(rescale=1./255) ## we dont apply any tranformations on the test set except the feature scaling "
   ]
  },
  {
   "cell_type": "code",
   "execution_count": 5,
   "metadata": {},
   "outputs": [
    {
     "name": "stdout",
     "output_type": "stream",
     "text": [
      "Found 2000 images belonging to 2 classes.\n"
     ]
    }
   ],
   "source": [
    "test_set = test_datagen.flow_from_directory(\n",
    "    os.path.join(os.getcwd(), 'dataset/test_set'),\n",
    "    target_size=(150, 150),\n",
    "    batch_size=32,\n",
    "    class_mode='binary'\n",
    ")"
   ]
  },
  {
   "cell_type": "markdown",
   "metadata": {},
   "source": [
    "### building the CNN"
   ]
  },
  {
   "cell_type": "code",
   "execution_count": 7,
   "metadata": {},
   "outputs": [],
   "source": [
    "model = tf.keras.models.Sequential([\n",
    "    ## Adding the layers in the model we get\n",
    "    ## CONVOLATION\n",
    "    tf.keras.layers.Conv2D(filters=32,kernel_size=3, activation='relu',input_shape=[150,150,3])\n",
    "])"
   ]
  },
  {
   "cell_type": "code",
   "execution_count": 8,
   "metadata": {},
   "outputs": [],
   "source": [
    "model.add(tf.keras.layers.MaxPool2D(pool_size=2, strides=2))"
   ]
  },
  {
   "cell_type": "code",
   "execution_count": 9,
   "metadata": {},
   "outputs": [],
   "source": [
    "model.add(tf.keras.layers.Conv2D(filters=32,kernel_size=3, activation='relu'))\n",
    "model.add(tf.keras.layers.MaxPool2D(pool_size=2, strides=2))"
   ]
  },
  {
   "cell_type": "code",
   "execution_count": 10,
   "metadata": {},
   "outputs": [],
   "source": [
    "## flattening the layers \n",
    "model.add(tf.keras.layers.Flatten())"
   ]
  },
  {
   "cell_type": "code",
   "execution_count": 12,
   "metadata": {},
   "outputs": [],
   "source": [
    "## full connection \n",
    "model.add(tf.keras.layers.Dense(units=64, activation='relu'))\n",
    "model.add(tf.keras.layers.Dense(units=1, activation='sigmoid'))"
   ]
  },
  {
   "cell_type": "markdown",
   "metadata": {},
   "source": [
    "## training the model"
   ]
  },
  {
   "cell_type": "code",
   "execution_count": 14,
   "metadata": {},
   "outputs": [],
   "source": [
    "model.compile(optimizer='adam', loss='binary_crossentropy', metrics=['accuracy'])"
   ]
  },
  {
   "cell_type": "code",
   "execution_count": 15,
   "metadata": {},
   "outputs": [
    {
     "name": "stdout",
     "output_type": "stream",
     "text": [
      "Epoch 1/25\n"
     ]
    },
    {
     "name": "stderr",
     "output_type": "stream",
     "text": [
      "2023-09-24 21:52:55.596711: W tensorflow/tsl/platform/profile_utils/cpu_utils.cc:128] Failed to get CPU frequency: 0 Hz\n"
     ]
    },
    {
     "name": "stdout",
     "output_type": "stream",
     "text": [
      "250/250 [==============================] - 84s 335ms/step - loss: 0.6679 - accuracy: 0.5925 - val_loss: 0.6170 - val_accuracy: 0.6670\n",
      "Epoch 2/25\n",
      "250/250 [==============================] - 76s 305ms/step - loss: 0.6102 - accuracy: 0.6646 - val_loss: 0.5784 - val_accuracy: 0.6960\n",
      "Epoch 3/25\n",
      "250/250 [==============================] - 82s 328ms/step - loss: 0.5552 - accuracy: 0.7107 - val_loss: 0.5350 - val_accuracy: 0.7340\n",
      "Epoch 4/25\n",
      "250/250 [==============================] - 72s 288ms/step - loss: 0.5258 - accuracy: 0.7429 - val_loss: 0.5266 - val_accuracy: 0.7490\n",
      "Epoch 5/25\n",
      "250/250 [==============================] - 80s 319ms/step - loss: 0.4941 - accuracy: 0.7624 - val_loss: 0.5208 - val_accuracy: 0.7580\n",
      "Epoch 6/25\n",
      "250/250 [==============================] - 78s 313ms/step - loss: 0.4680 - accuracy: 0.7744 - val_loss: 0.5582 - val_accuracy: 0.7300\n",
      "Epoch 7/25\n",
      "250/250 [==============================] - 78s 311ms/step - loss: 0.4415 - accuracy: 0.7925 - val_loss: 0.4736 - val_accuracy: 0.7775\n",
      "Epoch 8/25\n",
      "250/250 [==============================] - 78s 312ms/step - loss: 0.4270 - accuracy: 0.8014 - val_loss: 0.4751 - val_accuracy: 0.7865\n",
      "Epoch 9/25\n",
      "250/250 [==============================] - 82s 329ms/step - loss: 0.4050 - accuracy: 0.8163 - val_loss: 0.4783 - val_accuracy: 0.7890\n",
      "Epoch 10/25\n",
      "250/250 [==============================] - 78s 313ms/step - loss: 0.3972 - accuracy: 0.8186 - val_loss: 0.4746 - val_accuracy: 0.7880\n",
      "Epoch 11/25\n",
      "250/250 [==============================] - 78s 310ms/step - loss: 0.3804 - accuracy: 0.8270 - val_loss: 0.4772 - val_accuracy: 0.7885\n",
      "Epoch 12/25\n",
      "250/250 [==============================] - 79s 317ms/step - loss: 0.3650 - accuracy: 0.8369 - val_loss: 0.4691 - val_accuracy: 0.7950\n",
      "Epoch 13/25\n",
      "250/250 [==============================] - 81s 325ms/step - loss: 0.3519 - accuracy: 0.8424 - val_loss: 0.4608 - val_accuracy: 0.8060\n",
      "Epoch 14/25\n",
      "250/250 [==============================] - 77s 309ms/step - loss: 0.3414 - accuracy: 0.8482 - val_loss: 0.5095 - val_accuracy: 0.7835\n",
      "Epoch 15/25\n",
      "250/250 [==============================] - 84s 336ms/step - loss: 0.3235 - accuracy: 0.8583 - val_loss: 0.5219 - val_accuracy: 0.7970\n",
      "Epoch 16/25\n",
      "250/250 [==============================] - 78s 310ms/step - loss: 0.3101 - accuracy: 0.8654 - val_loss: 0.4704 - val_accuracy: 0.8135\n",
      "Epoch 17/25\n",
      "250/250 [==============================] - 72s 288ms/step - loss: 0.3015 - accuracy: 0.8662 - val_loss: 0.5199 - val_accuracy: 0.7970\n",
      "Epoch 18/25\n",
      "250/250 [==============================] - 70s 281ms/step - loss: 0.2962 - accuracy: 0.8741 - val_loss: 0.5373 - val_accuracy: 0.7780\n",
      "Epoch 19/25\n",
      "250/250 [==============================] - 72s 289ms/step - loss: 0.2795 - accuracy: 0.8789 - val_loss: 0.4905 - val_accuracy: 0.8050\n",
      "Epoch 20/25\n",
      "250/250 [==============================] - 73s 292ms/step - loss: 0.2664 - accuracy: 0.8884 - val_loss: 0.4978 - val_accuracy: 0.7950\n",
      "Epoch 21/25\n",
      "250/250 [==============================] - 72s 289ms/step - loss: 0.2508 - accuracy: 0.8941 - val_loss: 0.5420 - val_accuracy: 0.7995\n",
      "Epoch 22/25\n",
      "250/250 [==============================] - 72s 287ms/step - loss: 0.2405 - accuracy: 0.8992 - val_loss: 0.5388 - val_accuracy: 0.7975\n",
      "Epoch 23/25\n",
      "250/250 [==============================] - 72s 287ms/step - loss: 0.2247 - accuracy: 0.9045 - val_loss: 0.5673 - val_accuracy: 0.8040\n",
      "Epoch 24/25\n",
      "250/250 [==============================] - 72s 289ms/step - loss: 0.2213 - accuracy: 0.9099 - val_loss: 0.5738 - val_accuracy: 0.7965\n",
      "Epoch 25/25\n",
      "250/250 [==============================] - 72s 289ms/step - loss: 0.2232 - accuracy: 0.9059 - val_loss: 0.6095 - val_accuracy: 0.7935\n"
     ]
    },
    {
     "data": {
      "text/plain": [
       "<keras.callbacks.History at 0x2897da1d0>"
      ]
     },
     "execution_count": 15,
     "metadata": {},
     "output_type": "execute_result"
    }
   ],
   "source": [
    "model.fit(x=training_set, validation_data=test_set, epochs=25)"
   ]
  },
  {
   "cell_type": "code",
   "execution_count": 17,
   "metadata": {},
   "outputs": [
    {
     "data": {
      "text/plain": [
       "{'cats': 0, 'dogs': 1}"
      ]
     },
     "execution_count": 17,
     "metadata": {},
     "output_type": "execute_result"
    }
   ],
   "source": [
    "training_set.class_indices"
   ]
  },
  {
   "cell_type": "code",
   "execution_count": 20,
   "metadata": {},
   "outputs": [
    {
     "data": {
      "text/plain": [
       "{'cats': 0, 'dogs': 1}"
      ]
     },
     "execution_count": 20,
     "metadata": {},
     "output_type": "execute_result"
    }
   ],
   "source": [
    "training_set.class_indices"
   ]
  },
  {
   "cell_type": "code",
   "execution_count": null,
   "metadata": {},
   "outputs": [],
   "source": []
  }
 ],
 "metadata": {
  "kernelspec": {
   "display_name": "dlvenv",
   "language": "python",
   "name": "python3"
  },
  "language_info": {
   "codemirror_mode": {
    "name": "ipython",
    "version": 3
   },
   "file_extension": ".py",
   "mimetype": "text/x-python",
   "name": "python",
   "nbconvert_exporter": "python",
   "pygments_lexer": "ipython3",
   "version": "3.11.5"
  },
  "orig_nbformat": 4
 },
 "nbformat": 4,
 "nbformat_minor": 2
}
