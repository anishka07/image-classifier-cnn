{
 "cells": [
  {
   "cell_type": "code",
   "execution_count": 43,
   "metadata": {},
   "outputs": [],
   "source": [
    "import pandas as pd \n",
    "import tensorflow as tf\n",
    "import numpy as np \n",
    "from sklearn.preprocessing import LabelEncoder, OneHotEncoder, StandardScaler\n",
    "from sklearn.compose import ColumnTransformer\n",
    "from sklearn.model_selection import train_test_split\n",
    "from sklearn.metrics import accuracy_score, confusion_matrix"
   ]
  },
  {
   "cell_type": "code",
   "execution_count": 8,
   "metadata": {},
   "outputs": [
    {
     "data": {
      "text/plain": [
       "'2.12.1'"
      ]
     },
     "execution_count": 8,
     "metadata": {},
     "output_type": "execute_result"
    }
   ],
   "source": [
    "tf.__version__"
   ]
  },
  {
   "cell_type": "code",
   "execution_count": 5,
   "metadata": {},
   "outputs": [
    {
     "data": {
      "text/html": [
       "<div>\n",
       "<style scoped>\n",
       "    .dataframe tbody tr th:only-of-type {\n",
       "        vertical-align: middle;\n",
       "    }\n",
       "\n",
       "    .dataframe tbody tr th {\n",
       "        vertical-align: top;\n",
       "    }\n",
       "\n",
       "    .dataframe thead th {\n",
       "        text-align: right;\n",
       "    }\n",
       "</style>\n",
       "<table border=\"1\" class=\"dataframe\">\n",
       "  <thead>\n",
       "    <tr style=\"text-align: right;\">\n",
       "      <th></th>\n",
       "      <th>RowNumber</th>\n",
       "      <th>CustomerId</th>\n",
       "      <th>Surname</th>\n",
       "      <th>CreditScore</th>\n",
       "      <th>Geography</th>\n",
       "      <th>Gender</th>\n",
       "      <th>Age</th>\n",
       "      <th>Tenure</th>\n",
       "      <th>Balance</th>\n",
       "      <th>NumOfProducts</th>\n",
       "      <th>HasCrCard</th>\n",
       "      <th>IsActiveMember</th>\n",
       "      <th>EstimatedSalary</th>\n",
       "      <th>Exited</th>\n",
       "    </tr>\n",
       "  </thead>\n",
       "  <tbody>\n",
       "    <tr>\n",
       "      <th>0</th>\n",
       "      <td>1</td>\n",
       "      <td>15634602</td>\n",
       "      <td>Hargrave</td>\n",
       "      <td>619</td>\n",
       "      <td>France</td>\n",
       "      <td>Female</td>\n",
       "      <td>42</td>\n",
       "      <td>2</td>\n",
       "      <td>0.00</td>\n",
       "      <td>1</td>\n",
       "      <td>1</td>\n",
       "      <td>1</td>\n",
       "      <td>101348.88</td>\n",
       "      <td>1</td>\n",
       "    </tr>\n",
       "    <tr>\n",
       "      <th>1</th>\n",
       "      <td>2</td>\n",
       "      <td>15647311</td>\n",
       "      <td>Hill</td>\n",
       "      <td>608</td>\n",
       "      <td>Spain</td>\n",
       "      <td>Female</td>\n",
       "      <td>41</td>\n",
       "      <td>1</td>\n",
       "      <td>83807.86</td>\n",
       "      <td>1</td>\n",
       "      <td>0</td>\n",
       "      <td>1</td>\n",
       "      <td>112542.58</td>\n",
       "      <td>0</td>\n",
       "    </tr>\n",
       "    <tr>\n",
       "      <th>2</th>\n",
       "      <td>3</td>\n",
       "      <td>15619304</td>\n",
       "      <td>Onio</td>\n",
       "      <td>502</td>\n",
       "      <td>France</td>\n",
       "      <td>Female</td>\n",
       "      <td>42</td>\n",
       "      <td>8</td>\n",
       "      <td>159660.80</td>\n",
       "      <td>3</td>\n",
       "      <td>1</td>\n",
       "      <td>0</td>\n",
       "      <td>113931.57</td>\n",
       "      <td>1</td>\n",
       "    </tr>\n",
       "    <tr>\n",
       "      <th>3</th>\n",
       "      <td>4</td>\n",
       "      <td>15701354</td>\n",
       "      <td>Boni</td>\n",
       "      <td>699</td>\n",
       "      <td>France</td>\n",
       "      <td>Female</td>\n",
       "      <td>39</td>\n",
       "      <td>1</td>\n",
       "      <td>0.00</td>\n",
       "      <td>2</td>\n",
       "      <td>0</td>\n",
       "      <td>0</td>\n",
       "      <td>93826.63</td>\n",
       "      <td>0</td>\n",
       "    </tr>\n",
       "    <tr>\n",
       "      <th>4</th>\n",
       "      <td>5</td>\n",
       "      <td>15737888</td>\n",
       "      <td>Mitchell</td>\n",
       "      <td>850</td>\n",
       "      <td>Spain</td>\n",
       "      <td>Female</td>\n",
       "      <td>43</td>\n",
       "      <td>2</td>\n",
       "      <td>125510.82</td>\n",
       "      <td>1</td>\n",
       "      <td>1</td>\n",
       "      <td>1</td>\n",
       "      <td>79084.10</td>\n",
       "      <td>0</td>\n",
       "    </tr>\n",
       "  </tbody>\n",
       "</table>\n",
       "</div>"
      ],
      "text/plain": [
       "   RowNumber  CustomerId   Surname  CreditScore Geography  Gender  Age  \\\n",
       "0          1    15634602  Hargrave          619    France  Female   42   \n",
       "1          2    15647311      Hill          608     Spain  Female   41   \n",
       "2          3    15619304      Onio          502    France  Female   42   \n",
       "3          4    15701354      Boni          699    France  Female   39   \n",
       "4          5    15737888  Mitchell          850     Spain  Female   43   \n",
       "\n",
       "   Tenure    Balance  NumOfProducts  HasCrCard  IsActiveMember  \\\n",
       "0       2       0.00              1          1               1   \n",
       "1       1   83807.86              1          0               1   \n",
       "2       8  159660.80              3          1               0   \n",
       "3       1       0.00              2          0               0   \n",
       "4       2  125510.82              1          1               1   \n",
       "\n",
       "   EstimatedSalary  Exited  \n",
       "0        101348.88       1  \n",
       "1        112542.58       0  \n",
       "2        113931.57       1  \n",
       "3         93826.63       0  \n",
       "4         79084.10       0  "
      ]
     },
     "execution_count": 5,
     "metadata": {},
     "output_type": "execute_result"
    }
   ],
   "source": [
    "df = pd.read_csv('Churn_Modelling.csv')\n",
    "df.head()"
   ]
  },
  {
   "cell_type": "code",
   "execution_count": 7,
   "metadata": {},
   "outputs": [
    {
     "name": "stdout",
     "output_type": "stream",
     "text": [
      "<class 'pandas.core.frame.DataFrame'>\n",
      "RangeIndex: 10000 entries, 0 to 9999\n",
      "Data columns (total 14 columns):\n",
      " #   Column           Non-Null Count  Dtype  \n",
      "---  ------           --------------  -----  \n",
      " 0   RowNumber        10000 non-null  int64  \n",
      " 1   CustomerId       10000 non-null  int64  \n",
      " 2   Surname          10000 non-null  object \n",
      " 3   CreditScore      10000 non-null  int64  \n",
      " 4   Geography        10000 non-null  object \n",
      " 5   Gender           10000 non-null  object \n",
      " 6   Age              10000 non-null  int64  \n",
      " 7   Tenure           10000 non-null  int64  \n",
      " 8   Balance          10000 non-null  float64\n",
      " 9   NumOfProducts    10000 non-null  int64  \n",
      " 10  HasCrCard        10000 non-null  int64  \n",
      " 11  IsActiveMember   10000 non-null  int64  \n",
      " 12  EstimatedSalary  10000 non-null  float64\n",
      " 13  Exited           10000 non-null  int64  \n",
      "dtypes: float64(2), int64(9), object(3)\n",
      "memory usage: 1.1+ MB\n"
     ]
    }
   ],
   "source": [
    "df.info()"
   ]
  },
  {
   "cell_type": "code",
   "execution_count": 9,
   "metadata": {},
   "outputs": [],
   "source": [
    "dataset = df.copy()"
   ]
  },
  {
   "cell_type": "code",
   "execution_count": 11,
   "metadata": {},
   "outputs": [
    {
     "data": {
      "text/html": [
       "<div>\n",
       "<style scoped>\n",
       "    .dataframe tbody tr th:only-of-type {\n",
       "        vertical-align: middle;\n",
       "    }\n",
       "\n",
       "    .dataframe tbody tr th {\n",
       "        vertical-align: top;\n",
       "    }\n",
       "\n",
       "    .dataframe thead th {\n",
       "        text-align: right;\n",
       "    }\n",
       "</style>\n",
       "<table border=\"1\" class=\"dataframe\">\n",
       "  <thead>\n",
       "    <tr style=\"text-align: right;\">\n",
       "      <th></th>\n",
       "      <th>CreditScore</th>\n",
       "      <th>Geography</th>\n",
       "      <th>Gender</th>\n",
       "      <th>Age</th>\n",
       "      <th>Tenure</th>\n",
       "      <th>Balance</th>\n",
       "      <th>NumOfProducts</th>\n",
       "      <th>HasCrCard</th>\n",
       "      <th>IsActiveMember</th>\n",
       "      <th>EstimatedSalary</th>\n",
       "      <th>Exited</th>\n",
       "    </tr>\n",
       "  </thead>\n",
       "  <tbody>\n",
       "    <tr>\n",
       "      <th>0</th>\n",
       "      <td>619</td>\n",
       "      <td>France</td>\n",
       "      <td>Female</td>\n",
       "      <td>42</td>\n",
       "      <td>2</td>\n",
       "      <td>0.00</td>\n",
       "      <td>1</td>\n",
       "      <td>1</td>\n",
       "      <td>1</td>\n",
       "      <td>101348.88</td>\n",
       "      <td>1</td>\n",
       "    </tr>\n",
       "    <tr>\n",
       "      <th>1</th>\n",
       "      <td>608</td>\n",
       "      <td>Spain</td>\n",
       "      <td>Female</td>\n",
       "      <td>41</td>\n",
       "      <td>1</td>\n",
       "      <td>83807.86</td>\n",
       "      <td>1</td>\n",
       "      <td>0</td>\n",
       "      <td>1</td>\n",
       "      <td>112542.58</td>\n",
       "      <td>0</td>\n",
       "    </tr>\n",
       "    <tr>\n",
       "      <th>2</th>\n",
       "      <td>502</td>\n",
       "      <td>France</td>\n",
       "      <td>Female</td>\n",
       "      <td>42</td>\n",
       "      <td>8</td>\n",
       "      <td>159660.80</td>\n",
       "      <td>3</td>\n",
       "      <td>1</td>\n",
       "      <td>0</td>\n",
       "      <td>113931.57</td>\n",
       "      <td>1</td>\n",
       "    </tr>\n",
       "    <tr>\n",
       "      <th>3</th>\n",
       "      <td>699</td>\n",
       "      <td>France</td>\n",
       "      <td>Female</td>\n",
       "      <td>39</td>\n",
       "      <td>1</td>\n",
       "      <td>0.00</td>\n",
       "      <td>2</td>\n",
       "      <td>0</td>\n",
       "      <td>0</td>\n",
       "      <td>93826.63</td>\n",
       "      <td>0</td>\n",
       "    </tr>\n",
       "    <tr>\n",
       "      <th>4</th>\n",
       "      <td>850</td>\n",
       "      <td>Spain</td>\n",
       "      <td>Female</td>\n",
       "      <td>43</td>\n",
       "      <td>2</td>\n",
       "      <td>125510.82</td>\n",
       "      <td>1</td>\n",
       "      <td>1</td>\n",
       "      <td>1</td>\n",
       "      <td>79084.10</td>\n",
       "      <td>0</td>\n",
       "    </tr>\n",
       "  </tbody>\n",
       "</table>\n",
       "</div>"
      ],
      "text/plain": [
       "   CreditScore Geography  Gender  Age  Tenure    Balance  NumOfProducts  \\\n",
       "0          619    France  Female   42       2       0.00              1   \n",
       "1          608     Spain  Female   41       1   83807.86              1   \n",
       "2          502    France  Female   42       8  159660.80              3   \n",
       "3          699    France  Female   39       1       0.00              2   \n",
       "4          850     Spain  Female   43       2  125510.82              1   \n",
       "\n",
       "   HasCrCard  IsActiveMember  EstimatedSalary  Exited  \n",
       "0          1               1        101348.88       1  \n",
       "1          0               1        112542.58       0  \n",
       "2          1               0        113931.57       1  \n",
       "3          0               0         93826.63       0  \n",
       "4          1               1         79084.10       0  "
      ]
     },
     "execution_count": 11,
     "metadata": {},
     "output_type": "execute_result"
    }
   ],
   "source": [
    "dataset = dataset.drop(['CustomerId', 'RowNumber', 'Surname'], axis=1)\n",
    "dataset.head()"
   ]
  },
  {
   "cell_type": "code",
   "execution_count": 12,
   "metadata": {},
   "outputs": [
    {
     "data": {
      "text/html": [
       "<div>\n",
       "<style scoped>\n",
       "    .dataframe tbody tr th:only-of-type {\n",
       "        vertical-align: middle;\n",
       "    }\n",
       "\n",
       "    .dataframe tbody tr th {\n",
       "        vertical-align: top;\n",
       "    }\n",
       "\n",
       "    .dataframe thead th {\n",
       "        text-align: right;\n",
       "    }\n",
       "</style>\n",
       "<table border=\"1\" class=\"dataframe\">\n",
       "  <thead>\n",
       "    <tr style=\"text-align: right;\">\n",
       "      <th></th>\n",
       "      <th>CreditScore</th>\n",
       "      <th>Geography</th>\n",
       "      <th>Gender</th>\n",
       "      <th>Age</th>\n",
       "      <th>Tenure</th>\n",
       "      <th>Balance</th>\n",
       "      <th>NumOfProducts</th>\n",
       "      <th>HasCrCard</th>\n",
       "      <th>IsActiveMember</th>\n",
       "      <th>EstimatedSalary</th>\n",
       "      <th>Exited</th>\n",
       "    </tr>\n",
       "  </thead>\n",
       "  <tbody>\n",
       "    <tr>\n",
       "      <th>0</th>\n",
       "      <td>619</td>\n",
       "      <td>France</td>\n",
       "      <td>0</td>\n",
       "      <td>42</td>\n",
       "      <td>2</td>\n",
       "      <td>0.00</td>\n",
       "      <td>1</td>\n",
       "      <td>1</td>\n",
       "      <td>1</td>\n",
       "      <td>101348.88</td>\n",
       "      <td>1</td>\n",
       "    </tr>\n",
       "    <tr>\n",
       "      <th>1</th>\n",
       "      <td>608</td>\n",
       "      <td>Spain</td>\n",
       "      <td>0</td>\n",
       "      <td>41</td>\n",
       "      <td>1</td>\n",
       "      <td>83807.86</td>\n",
       "      <td>1</td>\n",
       "      <td>0</td>\n",
       "      <td>1</td>\n",
       "      <td>112542.58</td>\n",
       "      <td>0</td>\n",
       "    </tr>\n",
       "    <tr>\n",
       "      <th>2</th>\n",
       "      <td>502</td>\n",
       "      <td>France</td>\n",
       "      <td>0</td>\n",
       "      <td>42</td>\n",
       "      <td>8</td>\n",
       "      <td>159660.80</td>\n",
       "      <td>3</td>\n",
       "      <td>1</td>\n",
       "      <td>0</td>\n",
       "      <td>113931.57</td>\n",
       "      <td>1</td>\n",
       "    </tr>\n",
       "    <tr>\n",
       "      <th>3</th>\n",
       "      <td>699</td>\n",
       "      <td>France</td>\n",
       "      <td>0</td>\n",
       "      <td>39</td>\n",
       "      <td>1</td>\n",
       "      <td>0.00</td>\n",
       "      <td>2</td>\n",
       "      <td>0</td>\n",
       "      <td>0</td>\n",
       "      <td>93826.63</td>\n",
       "      <td>0</td>\n",
       "    </tr>\n",
       "    <tr>\n",
       "      <th>4</th>\n",
       "      <td>850</td>\n",
       "      <td>Spain</td>\n",
       "      <td>0</td>\n",
       "      <td>43</td>\n",
       "      <td>2</td>\n",
       "      <td>125510.82</td>\n",
       "      <td>1</td>\n",
       "      <td>1</td>\n",
       "      <td>1</td>\n",
       "      <td>79084.10</td>\n",
       "      <td>0</td>\n",
       "    </tr>\n",
       "  </tbody>\n",
       "</table>\n",
       "</div>"
      ],
      "text/plain": [
       "   CreditScore Geography  Gender  Age  Tenure    Balance  NumOfProducts  \\\n",
       "0          619    France       0   42       2       0.00              1   \n",
       "1          608     Spain       0   41       1   83807.86              1   \n",
       "2          502    France       0   42       8  159660.80              3   \n",
       "3          699    France       0   39       1       0.00              2   \n",
       "4          850     Spain       0   43       2  125510.82              1   \n",
       "\n",
       "   HasCrCard  IsActiveMember  EstimatedSalary  Exited  \n",
       "0          1               1        101348.88       1  \n",
       "1          0               1        112542.58       0  \n",
       "2          1               0        113931.57       1  \n",
       "3          0               0         93826.63       0  \n",
       "4          1               1         79084.10       0  "
      ]
     },
     "execution_count": 12,
     "metadata": {},
     "output_type": "execute_result"
    }
   ],
   "source": [
    "le = LabelEncoder()\n",
    "dataset['Gender'] = le.fit_transform(dataset['Gender'])\n",
    "dataset.head()"
   ]
  },
  {
   "cell_type": "code",
   "execution_count": 13,
   "metadata": {},
   "outputs": [
    {
     "data": {
      "text/plain": [
       "Geography\n",
       "France     5014\n",
       "Germany    2509\n",
       "Spain      2477\n",
       "Name: count, dtype: int64"
      ]
     },
     "execution_count": 13,
     "metadata": {},
     "output_type": "execute_result"
    }
   ],
   "source": [
    "dataset.Geography.value_counts()"
   ]
  },
  {
   "cell_type": "code",
   "execution_count": 14,
   "metadata": {},
   "outputs": [],
   "source": [
    "X = dataset.iloc[:, :-1].values\n",
    "y = dataset.iloc[:, -1].values"
   ]
  },
  {
   "cell_type": "code",
   "execution_count": 15,
   "metadata": {},
   "outputs": [
    {
     "data": {
      "text/plain": [
       "array([[619, 'France', 0, ..., 1, 1, 101348.88],\n",
       "       [608, 'Spain', 0, ..., 0, 1, 112542.58],\n",
       "       [502, 'France', 0, ..., 1, 0, 113931.57],\n",
       "       ...,\n",
       "       [709, 'France', 0, ..., 0, 1, 42085.58],\n",
       "       [772, 'Germany', 1, ..., 1, 0, 92888.52],\n",
       "       [792, 'France', 0, ..., 1, 0, 38190.78]], dtype=object)"
      ]
     },
     "execution_count": 15,
     "metadata": {},
     "output_type": "execute_result"
    }
   ],
   "source": [
    "X"
   ]
  },
  {
   "cell_type": "code",
   "execution_count": 19,
   "metadata": {},
   "outputs": [],
   "source": [
    "ct = ColumnTransformer(transformers=[('encoder', OneHotEncoder(), [1])], remainder='passthrough')\n",
    "X = np.array(ct.fit_transform(X))"
   ]
  },
  {
   "cell_type": "code",
   "execution_count": 36,
   "metadata": {},
   "outputs": [
    {
     "data": {
      "text/plain": [
       "array([[ 0.99720391, -0.57873591, -0.57380915, ...,  0.64609167,\n",
       "         0.97024255,  0.02188649],\n",
       "       [-1.00280393, -0.57873591,  1.74273971, ..., -1.54776799,\n",
       "         0.97024255,  0.21653375],\n",
       "       [ 0.99720391, -0.57873591, -0.57380915, ...,  0.64609167,\n",
       "        -1.03067011,  0.2406869 ],\n",
       "       ...,\n",
       "       [ 0.99720391, -0.57873591, -0.57380915, ..., -1.54776799,\n",
       "         0.97024255, -1.00864308],\n",
       "       [-1.00280393,  1.72790383, -0.57380915, ...,  0.64609167,\n",
       "        -1.03067011, -0.12523071],\n",
       "       [ 0.99720391, -0.57873591, -0.57380915, ...,  0.64609167,\n",
       "        -1.03067011, -1.07636976]])"
      ]
     },
     "execution_count": 36,
     "metadata": {},
     "output_type": "execute_result"
    }
   ],
   "source": [
    "X"
   ]
  },
  {
   "cell_type": "code",
   "execution_count": 24,
   "metadata": {},
   "outputs": [],
   "source": [
    "X_train, X_test, y_train, y_test = train_test_split(X, y, test_size=0.25, random_state=0)"
   ]
  },
  {
   "cell_type": "code",
   "execution_count": 25,
   "metadata": {},
   "outputs": [],
   "source": [
    "sc = StandardScaler()\n",
    "X_train = sc.fit_transform(X_train)\n",
    "X_test = sc.transform(X_test)"
   ]
  },
  {
   "cell_type": "code",
   "execution_count": 33,
   "metadata": {},
   "outputs": [
    {
     "data": {
      "text/plain": [
       "array([[-1.01558815,  1.76021608, -0.57468161, ...,  0.64365658,\n",
       "         0.96668786,  1.61203027],\n",
       "       [ 0.98465111, -0.56811207, -0.57468161, ...,  0.64365658,\n",
       "        -1.03446007,  0.49626891],\n",
       "       [-1.01558815, -0.56811207,  1.74009395, ...,  0.64365658,\n",
       "         0.96668786, -0.42502785],\n",
       "       ...,\n",
       "       [ 0.98465111, -0.56811207, -0.57468161, ...,  0.64365658,\n",
       "        -1.03446007, -0.272747  ],\n",
       "       [-1.01558815,  1.76021608, -0.57468161, ...,  0.64365658,\n",
       "        -1.03446007, -0.93306558],\n",
       "       [ 0.98465111, -0.56811207, -0.57468161, ..., -1.55362351,\n",
       "        -1.03446007, -0.47380732]])"
      ]
     },
     "execution_count": 33,
     "metadata": {},
     "output_type": "execute_result"
    }
   ],
   "source": [
    "X_test"
   ]
  },
  {
   "cell_type": "markdown",
   "metadata": {},
   "source": [
    "### Making the artifical neural network !!"
   ]
  },
  {
   "cell_type": "code",
   "execution_count": 28,
   "metadata": {},
   "outputs": [],
   "source": [
    "## INITIALIZE THE ARTIFICIAL NEURAL NETWORK\n",
    "ann = tf.keras.models.Sequential()"
   ]
  },
  {
   "cell_type": "code",
   "execution_count": 29,
   "metadata": {},
   "outputs": [],
   "source": [
    "# ADD THE INPUT LAYER AND THE FIRST HIDDEN LAYER \n",
    "ann.add(tf.keras.layers.Dense(units=6, activation='relu'))"
   ]
  },
  {
   "cell_type": "code",
   "execution_count": 30,
   "metadata": {},
   "outputs": [],
   "source": [
    "## ADD THE SECOND HIDDEN LAYER \n",
    "ann.add(tf.keras.layers.Dense(units=6, activation='relu'))"
   ]
  },
  {
   "cell_type": "code",
   "execution_count": 31,
   "metadata": {},
   "outputs": [],
   "source": [
    "## ADD THE OUTPUT LAYER \n",
    "ann.add(tf.keras.layers.Dense(units=1, activation='sigmoid'))"
   ]
  },
  {
   "cell_type": "code",
   "execution_count": 34,
   "metadata": {},
   "outputs": [],
   "source": [
    "## COMPILE THE TRAIN AND TEST DATA\n",
    "ann.compile(optimizer = 'adam', loss = 'binary_crossentropy', metrics = ['accuracy'])"
   ]
  },
  {
   "cell_type": "code",
   "execution_count": 35,
   "metadata": {},
   "outputs": [
    {
     "name": "stdout",
     "output_type": "stream",
     "text": [
      "Epoch 1/100\n"
     ]
    },
    {
     "name": "stderr",
     "output_type": "stream",
     "text": [
      "2023-09-18 16:16:20.141130: W tensorflow/tsl/platform/profile_utils/cpu_utils.cc:128] Failed to get CPU frequency: 0 Hz\n"
     ]
    },
    {
     "name": "stdout",
     "output_type": "stream",
     "text": [
      "235/235 [==============================] - 1s 649us/step - loss: 0.7938 - accuracy: 0.4703\n",
      "Epoch 2/100\n",
      "235/235 [==============================] - 0s 596us/step - loss: 0.6261 - accuracy: 0.7821\n",
      "Epoch 3/100\n",
      "235/235 [==============================] - 0s 596us/step - loss: 0.5848 - accuracy: 0.7964\n",
      "Epoch 4/100\n",
      "235/235 [==============================] - 0s 597us/step - loss: 0.5574 - accuracy: 0.7963\n",
      "Epoch 5/100\n",
      "235/235 [==============================] - 0s 588us/step - loss: 0.5340 - accuracy: 0.7972\n",
      "Epoch 6/100\n",
      "235/235 [==============================] - 0s 592us/step - loss: 0.5094 - accuracy: 0.8053\n",
      "Epoch 7/100\n",
      "235/235 [==============================] - 0s 580us/step - loss: 0.4878 - accuracy: 0.8139\n",
      "Epoch 8/100\n",
      "235/235 [==============================] - 0s 589us/step - loss: 0.4708 - accuracy: 0.8176\n",
      "Epoch 9/100\n",
      "235/235 [==============================] - 0s 586us/step - loss: 0.4551 - accuracy: 0.8207\n",
      "Epoch 10/100\n",
      "235/235 [==============================] - 0s 580us/step - loss: 0.4390 - accuracy: 0.8301\n",
      "Epoch 11/100\n",
      "235/235 [==============================] - 0s 749us/step - loss: 0.4241 - accuracy: 0.8371\n",
      "Epoch 12/100\n",
      "235/235 [==============================] - 0s 597us/step - loss: 0.4125 - accuracy: 0.8407\n",
      "Epoch 13/100\n",
      "235/235 [==============================] - 0s 592us/step - loss: 0.4032 - accuracy: 0.8435\n",
      "Epoch 14/100\n",
      "235/235 [==============================] - 0s 665us/step - loss: 0.3973 - accuracy: 0.8428\n",
      "Epoch 15/100\n",
      "235/235 [==============================] - 0s 766us/step - loss: 0.3918 - accuracy: 0.8433\n",
      "Epoch 16/100\n",
      "235/235 [==============================] - 0s 612us/step - loss: 0.3872 - accuracy: 0.8449\n",
      "Epoch 17/100\n",
      "235/235 [==============================] - 0s 587us/step - loss: 0.3838 - accuracy: 0.8440\n",
      "Epoch 18/100\n",
      "235/235 [==============================] - 0s 590us/step - loss: 0.3809 - accuracy: 0.8452\n",
      "Epoch 19/100\n",
      "235/235 [==============================] - 0s 589us/step - loss: 0.3783 - accuracy: 0.8448\n",
      "Epoch 20/100\n",
      "235/235 [==============================] - 0s 592us/step - loss: 0.3760 - accuracy: 0.8457\n",
      "Epoch 21/100\n",
      "235/235 [==============================] - 0s 595us/step - loss: 0.3741 - accuracy: 0.8452\n",
      "Epoch 22/100\n",
      "235/235 [==============================] - 0s 580us/step - loss: 0.3727 - accuracy: 0.8471\n",
      "Epoch 23/100\n",
      "235/235 [==============================] - 0s 594us/step - loss: 0.3709 - accuracy: 0.8467\n",
      "Epoch 24/100\n",
      "235/235 [==============================] - 0s 584us/step - loss: 0.3698 - accuracy: 0.8476\n",
      "Epoch 25/100\n",
      "235/235 [==============================] - 0s 585us/step - loss: 0.3685 - accuracy: 0.8469\n",
      "Epoch 26/100\n",
      "235/235 [==============================] - 0s 575us/step - loss: 0.3673 - accuracy: 0.8488\n",
      "Epoch 27/100\n",
      "235/235 [==============================] - 0s 573us/step - loss: 0.3659 - accuracy: 0.8484\n",
      "Epoch 28/100\n",
      "235/235 [==============================] - 0s 575us/step - loss: 0.3645 - accuracy: 0.8495\n",
      "Epoch 29/100\n",
      "235/235 [==============================] - 0s 573us/step - loss: 0.3633 - accuracy: 0.8500\n",
      "Epoch 30/100\n",
      "235/235 [==============================] - 0s 571us/step - loss: 0.3622 - accuracy: 0.8505\n",
      "Epoch 31/100\n",
      "235/235 [==============================] - 0s 575us/step - loss: 0.3613 - accuracy: 0.8516\n",
      "Epoch 32/100\n",
      "235/235 [==============================] - 0s 577us/step - loss: 0.3602 - accuracy: 0.8529\n",
      "Epoch 33/100\n",
      "235/235 [==============================] - 0s 578us/step - loss: 0.3591 - accuracy: 0.8539\n",
      "Epoch 34/100\n",
      "235/235 [==============================] - 0s 586us/step - loss: 0.3581 - accuracy: 0.8529\n",
      "Epoch 35/100\n",
      "235/235 [==============================] - 0s 577us/step - loss: 0.3572 - accuracy: 0.8548\n",
      "Epoch 36/100\n",
      "235/235 [==============================] - 0s 580us/step - loss: 0.3561 - accuracy: 0.8535\n",
      "Epoch 37/100\n",
      "235/235 [==============================] - 0s 591us/step - loss: 0.3551 - accuracy: 0.8557\n",
      "Epoch 38/100\n",
      "235/235 [==============================] - 0s 636us/step - loss: 0.3541 - accuracy: 0.8573\n",
      "Epoch 39/100\n",
      "235/235 [==============================] - 0s 624us/step - loss: 0.3534 - accuracy: 0.8556\n",
      "Epoch 40/100\n",
      "235/235 [==============================] - 0s 634us/step - loss: 0.3527 - accuracy: 0.8584\n",
      "Epoch 41/100\n",
      "235/235 [==============================] - 0s 575us/step - loss: 0.3520 - accuracy: 0.8583\n",
      "Epoch 42/100\n",
      "235/235 [==============================] - 0s 582us/step - loss: 0.3513 - accuracy: 0.8589\n",
      "Epoch 43/100\n",
      "235/235 [==============================] - 0s 575us/step - loss: 0.3508 - accuracy: 0.8581\n",
      "Epoch 44/100\n",
      "235/235 [==============================] - 0s 586us/step - loss: 0.3503 - accuracy: 0.8611\n",
      "Epoch 45/100\n",
      "235/235 [==============================] - 0s 571us/step - loss: 0.3497 - accuracy: 0.8588\n",
      "Epoch 46/100\n",
      "235/235 [==============================] - 0s 592us/step - loss: 0.3495 - accuracy: 0.8595\n",
      "Epoch 47/100\n",
      "235/235 [==============================] - 0s 579us/step - loss: 0.3489 - accuracy: 0.8593\n",
      "Epoch 48/100\n",
      "235/235 [==============================] - 0s 579us/step - loss: 0.3479 - accuracy: 0.8603\n",
      "Epoch 49/100\n",
      "235/235 [==============================] - 0s 579us/step - loss: 0.3472 - accuracy: 0.8621\n",
      "Epoch 50/100\n",
      "235/235 [==============================] - 0s 695us/step - loss: 0.3458 - accuracy: 0.8619\n",
      "Epoch 51/100\n",
      "235/235 [==============================] - 0s 601us/step - loss: 0.3452 - accuracy: 0.8616\n",
      "Epoch 52/100\n",
      "235/235 [==============================] - 0s 568us/step - loss: 0.3445 - accuracy: 0.8621\n",
      "Epoch 53/100\n",
      "235/235 [==============================] - 0s 584us/step - loss: 0.3438 - accuracy: 0.8609\n",
      "Epoch 54/100\n",
      "235/235 [==============================] - 0s 582us/step - loss: 0.3434 - accuracy: 0.8623\n",
      "Epoch 55/100\n",
      "235/235 [==============================] - 0s 579us/step - loss: 0.3430 - accuracy: 0.8629\n",
      "Epoch 56/100\n",
      "235/235 [==============================] - 0s 575us/step - loss: 0.3427 - accuracy: 0.8613\n",
      "Epoch 57/100\n",
      "235/235 [==============================] - 0s 588us/step - loss: 0.3421 - accuracy: 0.8633\n",
      "Epoch 58/100\n",
      "235/235 [==============================] - 0s 580us/step - loss: 0.3417 - accuracy: 0.8631\n",
      "Epoch 59/100\n",
      "235/235 [==============================] - 0s 588us/step - loss: 0.3411 - accuracy: 0.8612\n",
      "Epoch 60/100\n",
      "235/235 [==============================] - 0s 573us/step - loss: 0.3411 - accuracy: 0.8633\n",
      "Epoch 61/100\n",
      "235/235 [==============================] - 0s 578us/step - loss: 0.3404 - accuracy: 0.8617\n",
      "Epoch 62/100\n",
      "235/235 [==============================] - 0s 580us/step - loss: 0.3402 - accuracy: 0.8624\n",
      "Epoch 63/100\n",
      "235/235 [==============================] - 0s 580us/step - loss: 0.3400 - accuracy: 0.8633\n",
      "Epoch 64/100\n",
      "235/235 [==============================] - 0s 587us/step - loss: 0.3393 - accuracy: 0.8644\n",
      "Epoch 65/100\n",
      "235/235 [==============================] - 0s 579us/step - loss: 0.3394 - accuracy: 0.8640\n",
      "Epoch 66/100\n",
      "235/235 [==============================] - 0s 573us/step - loss: 0.3387 - accuracy: 0.8631\n",
      "Epoch 67/100\n",
      "235/235 [==============================] - 0s 581us/step - loss: 0.3386 - accuracy: 0.8631\n",
      "Epoch 68/100\n",
      "235/235 [==============================] - 0s 578us/step - loss: 0.3383 - accuracy: 0.8632\n",
      "Epoch 69/100\n",
      "235/235 [==============================] - 0s 583us/step - loss: 0.3380 - accuracy: 0.8624\n",
      "Epoch 70/100\n",
      "235/235 [==============================] - 0s 579us/step - loss: 0.3377 - accuracy: 0.8623\n",
      "Epoch 71/100\n",
      "235/235 [==============================] - 0s 582us/step - loss: 0.3374 - accuracy: 0.8621\n",
      "Epoch 72/100\n",
      "235/235 [==============================] - 0s 581us/step - loss: 0.3371 - accuracy: 0.8624\n",
      "Epoch 73/100\n",
      "235/235 [==============================] - 0s 579us/step - loss: 0.3369 - accuracy: 0.8635\n",
      "Epoch 74/100\n",
      "235/235 [==============================] - 0s 582us/step - loss: 0.3368 - accuracy: 0.8631\n",
      "Epoch 75/100\n",
      "235/235 [==============================] - 0s 574us/step - loss: 0.3366 - accuracy: 0.8632\n",
      "Epoch 76/100\n",
      "235/235 [==============================] - 0s 579us/step - loss: 0.3365 - accuracy: 0.8624\n",
      "Epoch 77/100\n",
      "235/235 [==============================] - 0s 574us/step - loss: 0.3365 - accuracy: 0.8639\n",
      "Epoch 78/100\n",
      "235/235 [==============================] - 0s 580us/step - loss: 0.3364 - accuracy: 0.8625\n",
      "Epoch 79/100\n",
      "235/235 [==============================] - 0s 583us/step - loss: 0.3363 - accuracy: 0.8624\n",
      "Epoch 80/100\n",
      "235/235 [==============================] - 0s 585us/step - loss: 0.3360 - accuracy: 0.8628\n",
      "Epoch 81/100\n",
      "235/235 [==============================] - 0s 578us/step - loss: 0.3357 - accuracy: 0.8635\n",
      "Epoch 82/100\n",
      "235/235 [==============================] - 0s 583us/step - loss: 0.3355 - accuracy: 0.8619\n",
      "Epoch 83/100\n",
      "235/235 [==============================] - 0s 574us/step - loss: 0.3353 - accuracy: 0.8632\n",
      "Epoch 84/100\n",
      "235/235 [==============================] - 0s 724us/step - loss: 0.3356 - accuracy: 0.8619\n",
      "Epoch 85/100\n",
      "235/235 [==============================] - 0s 580us/step - loss: 0.3354 - accuracy: 0.8624\n",
      "Epoch 86/100\n",
      "235/235 [==============================] - 0s 580us/step - loss: 0.3351 - accuracy: 0.8623\n",
      "Epoch 87/100\n",
      "235/235 [==============================] - 0s 580us/step - loss: 0.3353 - accuracy: 0.8635\n",
      "Epoch 88/100\n",
      "235/235 [==============================] - 0s 580us/step - loss: 0.3350 - accuracy: 0.8632\n",
      "Epoch 89/100\n",
      "235/235 [==============================] - 0s 579us/step - loss: 0.3347 - accuracy: 0.8625\n",
      "Epoch 90/100\n",
      "235/235 [==============================] - 0s 573us/step - loss: 0.3344 - accuracy: 0.8641\n",
      "Epoch 91/100\n",
      "235/235 [==============================] - 0s 604us/step - loss: 0.3348 - accuracy: 0.8625\n",
      "Epoch 92/100\n",
      "235/235 [==============================] - 0s 583us/step - loss: 0.3350 - accuracy: 0.8636\n",
      "Epoch 93/100\n",
      "235/235 [==============================] - 0s 575us/step - loss: 0.3343 - accuracy: 0.8627\n",
      "Epoch 94/100\n",
      "235/235 [==============================] - 0s 583us/step - loss: 0.3347 - accuracy: 0.8637\n",
      "Epoch 95/100\n",
      "235/235 [==============================] - 0s 581us/step - loss: 0.3346 - accuracy: 0.8620\n",
      "Epoch 96/100\n",
      "235/235 [==============================] - 0s 577us/step - loss: 0.3345 - accuracy: 0.8645\n",
      "Epoch 97/100\n",
      "235/235 [==============================] - 0s 581us/step - loss: 0.3343 - accuracy: 0.8628\n",
      "Epoch 98/100\n",
      "235/235 [==============================] - 0s 611us/step - loss: 0.3340 - accuracy: 0.8641\n",
      "Epoch 99/100\n",
      "235/235 [==============================] - 0s 603us/step - loss: 0.3346 - accuracy: 0.8619\n",
      "Epoch 100/100\n",
      "235/235 [==============================] - 0s 578us/step - loss: 0.3342 - accuracy: 0.8624\n"
     ]
    },
    {
     "data": {
      "text/plain": [
       "<keras.callbacks.History at 0x288d53210>"
      ]
     },
     "execution_count": 35,
     "metadata": {},
     "output_type": "execute_result"
    }
   ],
   "source": [
    "ann.fit(X_train, y_train, batch_size = 32, epochs = 100)"
   ]
  },
  {
   "cell_type": "code",
   "execution_count": 41,
   "metadata": {},
   "outputs": [
    {
     "name": "stdout",
     "output_type": "stream",
     "text": [
      "1/1 [==============================] - 0s 20ms/step\n",
      "[[ True]]\n"
     ]
    }
   ],
   "source": [
    "print(ann.predict(sc.transform([[1, 0, 0, 600, 1, 40, 3, 60000, 2, 1, 1, 50000]])) > 0.5)"
   ]
  },
  {
   "cell_type": "code",
   "execution_count": 42,
   "metadata": {},
   "outputs": [
    {
     "name": "stdout",
     "output_type": "stream",
     "text": [
      "79/79 [==============================] - 0s 471us/step\n"
     ]
    },
    {
     "data": {
      "text/plain": [
       "array([[0, 0],\n",
       "       [0, 1],\n",
       "       [0, 0],\n",
       "       ...,\n",
       "       [0, 0],\n",
       "       [0, 0],\n",
       "       [0, 0]])"
      ]
     },
     "execution_count": 42,
     "metadata": {},
     "output_type": "execute_result"
    }
   ],
   "source": [
    "y_pred = ann.predict(X_test)\n",
    "y_pred = (y_pred > .5)\n",
    "np.concatenate((y_pred.reshape(len(y_pred), 1), y_test.reshape(len(y_test), 1)), 1)"
   ]
  },
  {
   "cell_type": "code",
   "execution_count": 45,
   "metadata": {},
   "outputs": [
    {
     "name": "stdout",
     "output_type": "stream",
     "text": [
      "[[1884  240]\n",
      " [ 107  269]]\n",
      "86.11999999999999\n"
     ]
    }
   ],
   "source": [
    "print(confusion_matrix(y_pred, y_test))\n",
    "print(accuracy_score(y_test, y_pred) * 100)"
   ]
  },
  {
   "cell_type": "code",
   "execution_count": null,
   "metadata": {},
   "outputs": [],
   "source": []
  }
 ],
 "metadata": {
  "kernelspec": {
   "display_name": "Python 3 (ipykernel)",
   "language": "python",
   "name": "python3"
  },
  "language_info": {
   "codemirror_mode": {
    "name": "ipython",
    "version": 3
   },
   "file_extension": ".py",
   "mimetype": "text/x-python",
   "name": "python",
   "nbconvert_exporter": "python",
   "pygments_lexer": "ipython3",
   "version": "3.11.5"
  }
 },
 "nbformat": 4,
 "nbformat_minor": 2
}
